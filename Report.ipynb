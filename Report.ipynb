{
 "cells": [
  {
   "cell_type": "markdown",
   "metadata": {},
   "source": [
    "# Report"
   ]
  },
  {
   "cell_type": "markdown",
   "metadata": {},
   "source": [
    "## Learning Algorithm \n",
    "\n",
    "This repository, specifically files below:\n",
    " - src/\n",
    "     - dqn_agent.py\n",
    "     - model.py \n",
    "     - replaybuffers.py\n",
    "\n",
    "Contain implementation of Deep Q-Learning algorithm with following improvements:\n",
    "    - Double Q-Learning\n",
    "    - Prioretized Experience Replay\n",
    "    \n",
    "    "
   ]
  },
  {
   "cell_type": "markdown",
   "metadata": {},
   "source": [
    "### Neural Network architecture \n",
    "\n",
    "File src/model.py contains PyTorch implementation of small Neural Network, that's used for Q function approximation as per Deep Q-Learning algorithm. \n",
    "\n",
    "``` python \n",
    "nn.Sequential(\n",
    "            nn.Linear(state_size, layer_1_size),\n",
    "            nn.ReLU(),\n",
    "            nn.Linear(layer_1_size, layer_2_size),\n",
    "            nn.ReLU(),\n",
    "            nn.Linear(layer_2_size, layer_2_size),\n",
    "            nn.ReLU(),\n",
    "            nn.Linear(layer_2_size, action_size)\n",
    "        )\n",
    "\n",
    "```\n",
    "As can be seen on code snipped above it's a fairly standard NN architecture with 2 hidden layers, built using fully connected layers (nn.Linear) with ReLU activations for all but output layer: \n",
    "\n",
    "- first Layer corresponds to Environment state_size which in case of Bannana collector is 37\n",
    "- hidden layers have size of layer_1_size=64 and layer_2_size=128 neurons \n",
    "- output layer depends on environment action_size (equal to 4), so that this model can predict value of each action in single forward pass\n",
    "\n",
    "The size and number of hidden layers was chosen experimentally. \n",
    "\n",
    "## Hyperparameters used\n",
    "\n",
    "```python\n",
    "\n",
    "BUFFER_SIZE = int(1e5)  # replay buffer size\n",
    "BATCH_SIZE = 64         # minibatch size\n",
    "GAMMA = 0.99            # discount factor\n",
    "TAU = 1e-3              # for soft update of target parameters               \n",
    "LR = 1e-4               # learning rate\n",
    "UPDATE_EVERY = 4        # how often to update the network\n",
    "\n",
    "\n",
    "```\n",
    "\n",
    "\n",
    "### NN Training\n",
    "Network above is trained by minimizing [Mean Squared Error Loss function](https://pytorch.org/docs/stable/nn.html?highlight=mseloss#torch.nn.MSELoss) with help of [ADAM optimizer](https://pytorch.org/docs/stable/optim.html?highlight=mseloss#torch.optim.Adam). \n",
    "\n",
    "Learning rate of  LR = 1e-4  was chosen after some experimentation with values between (1e-2, 1e-5).\n",
    "\n",
    "\n",
    "## Deep Q-Learning\n",
    "\n",
    "DQN Agent is using 2 separate Neural Networks, both with identical architecture described above. They are used to implement Fixed Q-Targets, where one instance (qnetwork_local field in dqn_agent.py Agent class) instance is continuosly updated to minimize MSELoss (see NN Training) between Q values predicted by qnetwork_local and Q_targets calculated using [Deep Q-Learning Algorithm](https://storage.googleapis.com/deepmind-media/dqn/DQNNaturePaper.pdf)\n",
    "\n",
    "![alt text](https://github.com/nabacg/deep-rl-navigation-project/blob/master/images/DeepQLearningAlgo.png?raw=true \"Deep Q-Learning Algo \")\n",
    "\n",
    "\n",
    "### Double DQN \n",
    "[Double DQN] (https://arxiv.org/abs/1509.06461) is implemented inside src/dqn_agent.py Agent.learn method, relevant parts are copied below. Hopefully comments make it\n",
    "\n",
    "```python\n",
    "\n",
    "\n",
    "        ## Double Q-Learning implementation \n",
    "        # Find action with highest value using Q network under training (argmax on qnetwork_local) for each S'\n",
    "        best_actions_by_local_nn = torch.max(self.qnetwork_local(next_states).detach(), dim=1)[1].unsqueeze(1)\n",
    "        # Then use Target Q-network (one not trained atm) to predict Q values for each (S', best_action) pair, which hopefully should be less noisy than Qnetwork_local would predict\n",
    "        action_values_by_target_nn = self.qnetwork_target(next_states).detach().gather(1, best_actions_by_local_nn)\n",
    "        # once action_values are predicted using  \n",
    "        Q_target = rewards + gamma * action_values_by_target_nn * (1 - dones)\n",
    "\n",
    "        Q_pred = self.qnetwork_local(states).gather(1, actions)\n",
    "\n",
    "        self.optimizer.zero_grad()\n",
    "        loss = F.mse_loss(Q_pred, Q_target)\n",
    "\n",
    "```\n",
    "\n",
    "\n",
    "### Prioritized Experience Replay\n",
    "Prioritized Experience Replay was implemented by replacing ReplayBuffer class (src/replaybuffers.py) with PrioretizedReplayBuffer class.  Main difference between them is that add method that saves experiences  into memory takes another td_error parameter which is then saved into buffer to be used for priority sampling. \n",
    "\n",
    "Sample method can subsequently use that priority to increase probability of selecting experiences that had higher TD error. Note this implementation is not very efficient \n",
    "\n",
    "```python\n",
    "ps = [e.priority for e in self.memory if e is not None]\n",
    "sum_ps = np.sum(ps)\n",
    "experiences = random.choices(self.memory,\n",
    "                                     weights=[e.priority / sum_ps for e in self.memory if e is not None],\n",
    "                                     k = self.batch_size)\n",
    "\n",
    "```"
   ]
  },
  {
   "cell_type": "markdown",
   "metadata": {},
   "source": [
    "## Plot of Rewards\n",
    "\n",
    "Plot from [Training](Training.ipynb) showing scores (total reword per episode) on agent trained from scratch until average score for 100 episode window reached 13.0. This was achived after 628 episodes, more details in Training notebook.\n",
    "\n",
    "![alt text](https://github.com/nabacg/deep-rl-navigation-project/images/rewards_up_to_13.png \" Scores 13 \")\n",
    "\n",
    "\n",
    "The same algorithm when trained until mean target score of 17.5 is reached will produce following plot:\n",
    "\n",
    "![alt text](https://github.com/nabacg/deep-rl-navigation-project/images/rewards_for_2000_episodes.png \"Scores 17.5\")\n",
    "\n",
    "\n"
   ]
  },
  {
   "cell_type": "markdown",
   "metadata": {},
   "source": [
    "# Demo of testing pretrained agent \n",
    "\n",
    "with weight file qnetwork_model_weights_17_5.pth, which was trained until mean target score of 17.5 was reached. "
   ]
  },
  {
   "cell_type": "code",
   "execution_count": 5,
   "metadata": {},
   "outputs": [],
   "source": [
    "import sys\n",
    "sys.path.append('src')\n",
    "import os\n",
    "from dqn_agent import Agent, train_agent, test_agent\n",
    "from unityagents import UnityEnvironment"
   ]
  },
  {
   "cell_type": "code",
   "execution_count": null,
   "metadata": {},
   "outputs": [],
   "source": [
    "env = UnityEnvironment(file_name=\"Banana.app\")"
   ]
  },
  {
   "cell_type": "code",
   "execution_count": 7,
   "metadata": {
    "scrolled": true
   },
   "outputs": [],
   "source": [
    "brain_name = env.brain_names[0]\n",
    "brain = env.brains[brain_name]\n",
    "env_info = env.reset(train_mode=True)[brain_name]\n",
    "action_size = brain.vector_action_space_size\n",
    "state = env_info.vector_observations[0]\n",
    "state_size = len(state)\n",
    "agent = Agent(state_size=state_size, action_size=action_size, seed=0)"
   ]
  },
  {
   "cell_type": "code",
   "execution_count": 11,
   "metadata": {
    "scrolled": true
   },
   "outputs": [
    {
     "name": "stdout",
     "output_type": "stream",
     "text": [
      "Episode 1\\ Score: 14.00\n",
      "Episode 2\\ Score: 20.00\n",
      "Episode 3\\ Score: 20.00\n",
      "Episode 4\\ Score: 15.00\n",
      "Episode 5\\ Score: 14.00\n",
      "Episode 6\\ Score: 18.00\n",
      "Episode 7\\ Score: 21.00\n",
      "Episode 8\\ Score: 22.00\n",
      "Episode 9\\ Score: 16.00\n",
      "Episode 10\\ Score: 19.00\n",
      "Episode 11\\ Score: 7.00\n",
      "Episode 12\\ Score: 19.00\n",
      "Episode 13\\ Score: 17.00\n",
      "Episode 14\\ Score: 19.00\n",
      "Episode 15\\ Score: 14.00\n",
      "Episode 16\\ Score: 18.00\n",
      "Episode 17\\ Score: 22.00\n",
      "Episode 18\\ Score: 16.00\n",
      "Episode 19\\ Score: 14.00\n",
      "Episode 20\\ Score: 21.00\n",
      "Episode 21\\ Score: 14.00\n",
      "Episode 22\\ Score: 19.00\n",
      "Episode 23\\ Score: 16.00\n",
      "Episode 24\\ Score: 22.00\n",
      "Episode 25\\ Score: 21.00\n",
      "Episode 26\\ Score: 15.00\n",
      "Episode 27\\ Score: 23.00\n",
      "Episode 28\\ Score: 19.00\n",
      "Episode 29\\ Score: 19.00\n",
      "Episode 30\\ Score: 19.00\n",
      "Episode 31\\ Score: 13.00\n",
      "Episode 32\\ Score: 16.00\n",
      "Episode 33\\ Score: 18.00\n",
      "Episode 34\\ Score: 17.00\n",
      "Episode 35\\ Score: 22.00\n",
      "Episode 36\\ Score: 23.00\n",
      "Episode 37\\ Score: 21.00\n",
      "Episode 38\\ Score: 19.00\n",
      "Episode 39\\ Score: 18.00\n",
      "Episode 40\\ Score: 25.00\n",
      "Episode 41\\ Score: 19.00\n",
      "Episode 42\\ Score: 17.00\n",
      "Episode 43\\ Score: 15.00\n",
      "Episode 44\\ Score: 15.00\n",
      "Episode 45\\ Score: 19.00\n",
      "Episode 46\\ Score: 3.00\n",
      "Episode 47\\ Score: 19.00\n",
      "Episode 48\\ Score: 17.00\n",
      "Episode 49\\ Score: 22.00\n",
      "Episode 50\\ Score: 12.00\n",
      "Episode 51\\ Score: 22.00\n",
      "Episode 52\\ Score: 19.00\n",
      "Episode 53\\ Score: 20.00\n",
      "Episode 54\\ Score: 13.00\n",
      "Episode 55\\ Score: 22.00\n",
      "Episode 56\\ Score: 20.00\n",
      "Episode 57\\ Score: 20.00\n",
      "Episode 58\\ Score: 14.00\n",
      "Episode 59\\ Score: 19.00\n",
      "Episode 60\\ Score: 22.00\n",
      "Episode 61\\ Score: 22.00\n",
      "Episode 62\\ Score: 20.00\n",
      "Episode 63\\ Score: 22.00\n",
      "Episode 64\\ Score: 16.00\n",
      "Episode 65\\ Score: 16.00\n",
      "Episode 66\\ Score: 17.00\n",
      "Episode 67\\ Score: 19.00\n",
      "Episode 68\\ Score: 22.00\n",
      "Episode 69\\ Score: 17.00\n",
      "Episode 70\\ Score: 18.00\n",
      "Episode 71\\ Score: 15.00\n",
      "Episode 72\\ Score: 21.00\n",
      "Episode 73\\ Score: 16.00\n",
      "Episode 74\\ Score: 14.00\n",
      "Episode 75\\ Score: 16.00\n",
      "Episode 76\\ Score: 17.00\n",
      "Episode 77\\ Score: 15.00\n",
      "Episode 78\\ Score: 17.00\n",
      "Episode 79\\ Score: 18.00\n",
      "Episode 80\\ Score: 3.00\n",
      "Episode 81\\ Score: 17.00\n",
      "Episode 82\\ Score: 21.00\n",
      "Episode 83\\ Score: 19.00\n",
      "Episode 84\\ Score: 14.00\n",
      "Episode 85\\ Score: 17.00\n",
      "Episode 86\\ Score: 14.00\n",
      "Episode 87\\ Score: 19.00\n",
      "Episode 88\\ Score: 24.00\n",
      "Episode 89\\ Score: 16.00\n",
      "Episode 90\\ Score: 19.00\n",
      "Episode 91\\ Score: 19.00\n",
      "Episode 92\\ Score: 14.00\n",
      "Episode 93\\ Score: 18.00\n",
      "Episode 94\\ Score: 20.00\n",
      "Episode 95\\ Score: 19.00\n",
      "Episode 96\\ Score: 15.00\n",
      "Episode 97\\ Score: 14.00\n",
      "Episode 98\\ Score: 24.00\n",
      "Episode 99\\ Score: 17.00\n",
      "Episode 100\\ Score: 22.00\n"
     ]
    }
   ],
   "source": [
    "scores = test_agent(agent, \n",
    "            env,\n",
    "            input_weights= \"qnetwork_model_weights_17_5.pth\",\n",
    "            n_episodes=100)"
   ]
  },
  {
   "cell_type": "code",
   "execution_count": 12,
   "metadata": {},
   "outputs": [
    {
     "data": {
      "image/png": "[encoded data removed]",
      "text/plain": [
       "<Figure size 432x288 with 1 Axes>"
      ]
     },
     "metadata": {
      "needs_background": "light"
     },
     "output_type": "display_data"
    }
   ],
   "source": [
    "import matplotlib.pyplot as plt\n",
    "import numpy as np\n",
    "%matplotlib inline\n",
    "\n",
    "scores = scores\n",
    "fig = plt.figure()\n",
    "ax = fig.add_subplot(212)\n",
    "plt.plot(np.arange(len(scores)), scores)\n",
    "plt.ylabel('Score')\n",
    "plt.xlabel('Episode #')\n",
    "plt.show()"
   ]
  },
  {
   "cell_type": "markdown",
   "metadata": {},
   "source": [
    "## Ideas for Future Work\n",
    "- implement Dueling DQN and/or Rainbow \n",
    "- more performant implementation of Prioretized Experience Replay\n",
    "- learning from pixels"
   ]
  }
 ],
 "metadata": {
  "kernelspec": {
   "display_name": "Python 3",
   "language": "python",
   "name": "python3"
  },
  "language_info": {
   "codemirror_mode": {
    "name": "ipython",
    "version": 3
   },
   "file_extension": ".py",
   "mimetype": "text/x-python",
   "name": "python",
   "nbconvert_exporter": "python",
   "pygments_lexer": "ipython3",
   "version": "3.6.8"
  }
 },
 "nbformat": 4,
 "nbformat_minor": 2
}
